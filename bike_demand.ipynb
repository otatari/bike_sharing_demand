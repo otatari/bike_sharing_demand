{
  "cells": [
    {
      "cell_type": "markdown",
      "source": [
        "# Bike Sharing Demand Prediction\n",
        "\n",
        "Bike sharing has become very popular in major cities as an alternative transportation mode. Bike rental and return is administered through automated kiosk locations all aroud the city.\n",
        "\n",
        "## Goal of the Project\n",
        "\n",
        "The goal of the project is to predict the demand of the bikes in a given day and hour. Root mean square logarithmic error (RMSLE) will be utilized for evaluation. RMSLE logs each RMSE and penalizes underestimated error more than overestimated errors.\n",
        "\n",
        "## Data \n",
        "\n",
        "Following are the features and their descriptions:\n",
        "\n",
        "- datetime\n",
        "- season. 1 = spring, 2 = summer, 3 = fall, 4 = winter\n",
        "holiday. whether the day is a holiday or not\n",
        "- workingday. whether the day is neither a weekend nor holiday\n",
        "weather.\n",
        "- 1: Clear, Few clouds, Partly cloudy, Partly cloudy\n",
        "- 2: Mist + Cloudy, Mist + Broken clouds, Mist + Few clouds, Mist\n",
        "- 3: Light Snow, Light Rain + Thunderstorm + Scattered clouds, Light Rain + Scattered clouds\n",
        "- 4: Heavy Rain + Ice Pallets + Thunderstorm + Mist, Snow + Fog\n",
        "- temp - temperature in Celsius\n",
        "- atemp - \"feels like\" temperature in Celsius\n",
        "- humidity - relative humidity\n",
        "- windspeed - wind speed\n",
        "- casual - number of non-registered user rentals initiated\n",
        "- registered - number of registered user rentals initiated\n",
        "- count - number of total rentals (Dependent Variable)"
      ],
      "metadata": {
        "nteract": {
          "transient": {
            "deleting": false
          }
        }
      }
    },
    {
      "cell_type": "markdown",
      "source": [
        "## Import Necessary package libraries"
      ],
      "metadata": {
        "nteract": {
          "transient": {
            "deleting": false
          }
        }
      }
    },
    {
      "cell_type": "code",
      "source": [
        "import pylab\n",
        "import calendar\n",
        "import numpy as np\n",
        "import pandas as pd\n",
        "import seaborn as sns\n",
        "from scipy import stats\n",
        "import missingno as msno\n",
        "from datetime import datetime as dt\n",
        "import matplotlib.pyplot as plt\n",
        "import warnings\n",
        "pd.options.mode.chained_assignment = None\n",
        "\n",
        "#import the necessary modelling algos.\n",
        "\n",
        "#classifiaction.\n",
        "from sklearn.linear_model import LogisticRegression\n",
        "from sklearn.svm import LinearSVC,SVC\n",
        "from sklearn.neighbors import KNeighborsClassifier\n",
        "from sklearn.ensemble import RandomForestClassifier,GradientBoostingClassifier\n",
        "from sklearn.tree import DecisionTreeClassifier\n",
        "from sklearn.naive_bayes import GaussianNB\n",
        "\n",
        "#regression\n",
        "from sklearn.linear_model import LinearRegression,Ridge,Lasso,RidgeCV\n",
        "from sklearn.ensemble import RandomForestRegressor,BaggingRegressor,GradientBoostingRegressor,AdaBoostRegressor\n",
        "from sklearn.svm import SVR\n",
        "from sklearn.neighbors import KNeighborsRegressor\n",
        "\n",
        "#model selection\n",
        "from sklearn.model_selection import train_test_split,cross_validate\n",
        "from sklearn.model_selection import KFold\n",
        "from sklearn.model_selection import GridSearchCV\n",
        "\n",
        "#evaluation metrics\n",
        "from sklearn.metrics import mean_squared_log_error,mean_squared_error, r2_score,mean_absolute_error # for regression\n",
        "from sklearn.metrics import accuracy_score,precision_score,recall_score,f1_score  # for classification\n",
        " \n",
        "\n",
        "warnings.filterwarnings(\"ignore\", category=DeprecationWarning)\n",
        "%matplotlib inline"
      ],
      "outputs": [],
      "execution_count": 110,
      "metadata": {
        "collapsed": true,
        "outputExpanded": false,
        "jupyter": {
          "source_hidden": false,
          "outputs_hidden": false
        },
        "nteract": {
          "transient": {
            "deleting": false
          }
        },
        "execution": {
          "iopub.status.busy": "2020-05-17T20:42:05.555Z",
          "iopub.execute_input": "2020-05-17T20:42:05.564Z",
          "iopub.status.idle": "2020-05-17T20:42:05.576Z",
          "shell.execute_reply": "2020-05-17T20:42:05.585Z"
        }
      }
    },
    {
      "cell_type": "markdown",
      "source": [
        "## Read the Data"
      ],
      "metadata": {
        "nteract": {
          "transient": {
            "deleting": false
          }
        }
      }
    },
    {
      "cell_type": "code",
      "source": [
        "data = pd.read_csv(\"train.csv\")\n",
        "data.shape"
      ],
      "outputs": [
        {
          "output_type": "execute_result",
          "execution_count": 73,
          "data": {
            "text/plain": [
              "(10886, 12)"
            ]
          },
          "metadata": {}
        }
      ],
      "execution_count": 73,
      "metadata": {
        "collapsed": true,
        "outputExpanded": false,
        "jupyter": {
          "source_hidden": false,
          "outputs_hidden": false
        },
        "nteract": {
          "transient": {
            "deleting": false
          }
        },
        "execution": {
          "iopub.status.busy": "2020-05-17T19:31:21.143Z",
          "iopub.execute_input": "2020-05-17T19:31:21.149Z",
          "iopub.status.idle": "2020-05-17T19:31:21.165Z",
          "shell.execute_reply": "2020-05-17T19:31:21.172Z"
        }
      }
    },
    {
      "cell_type": "code",
      "source": [
        "data.head()"
      ],
      "outputs": [
        {
          "output_type": "execute_result",
          "execution_count": 74,
          "data": {
            "text/plain": [
              "              datetime  season  holiday  workingday  weather  temp   atemp  \\\n",
              "0  2011-01-01 00:00:00       1        0           0        1  9.84  14.395   \n",
              "1  2011-01-01 01:00:00       1        0           0        1  9.02  13.635   \n",
              "2  2011-01-01 02:00:00       1        0           0        1  9.02  13.635   \n",
              "3  2011-01-01 03:00:00       1        0           0        1  9.84  14.395   \n",
              "4  2011-01-01 04:00:00       1        0           0        1  9.84  14.395   \n",
              "\n",
              "   humidity  windspeed  casual  registered  count  \n",
              "0        81        0.0       3          13     16  \n",
              "1        80        0.0       8          32     40  \n",
              "2        80        0.0       5          27     32  \n",
              "3        75        0.0       3          10     13  \n",
              "4        75        0.0       0           1      1  "
            ],
            "text/html": [
              "<div>\n",
              "<style scoped>\n",
              "    .dataframe tbody tr th:only-of-type {\n",
              "        vertical-align: middle;\n",
              "    }\n",
              "\n",
              "    .dataframe tbody tr th {\n",
              "        vertical-align: top;\n",
              "    }\n",
              "\n",
              "    .dataframe thead th {\n",
              "        text-align: right;\n",
              "    }\n",
              "</style>\n",
              "<table border=\"1\" class=\"dataframe\">\n",
              "  <thead>\n",
              "    <tr style=\"text-align: right;\">\n",
              "      <th></th>\n",
              "      <th>datetime</th>\n",
              "      <th>season</th>\n",
              "      <th>holiday</th>\n",
              "      <th>workingday</th>\n",
              "      <th>weather</th>\n",
              "      <th>temp</th>\n",
              "      <th>atemp</th>\n",
              "      <th>humidity</th>\n",
              "      <th>windspeed</th>\n",
              "      <th>casual</th>\n",
              "      <th>registered</th>\n",
              "      <th>count</th>\n",
              "    </tr>\n",
              "  </thead>\n",
              "  <tbody>\n",
              "    <tr>\n",
              "      <td>0</td>\n",
              "      <td>2011-01-01 00:00:00</td>\n",
              "      <td>1</td>\n",
              "      <td>0</td>\n",
              "      <td>0</td>\n",
              "      <td>1</td>\n",
              "      <td>9.84</td>\n",
              "      <td>14.395</td>\n",
              "      <td>81</td>\n",
              "      <td>0.0</td>\n",
              "      <td>3</td>\n",
              "      <td>13</td>\n",
              "      <td>16</td>\n",
              "    </tr>\n",
              "    <tr>\n",
              "      <td>1</td>\n",
              "      <td>2011-01-01 01:00:00</td>\n",
              "      <td>1</td>\n",
              "      <td>0</td>\n",
              "      <td>0</td>\n",
              "      <td>1</td>\n",
              "      <td>9.02</td>\n",
              "      <td>13.635</td>\n",
              "      <td>80</td>\n",
              "      <td>0.0</td>\n",
              "      <td>8</td>\n",
              "      <td>32</td>\n",
              "      <td>40</td>\n",
              "    </tr>\n",
              "    <tr>\n",
              "      <td>2</td>\n",
              "      <td>2011-01-01 02:00:00</td>\n",
              "      <td>1</td>\n",
              "      <td>0</td>\n",
              "      <td>0</td>\n",
              "      <td>1</td>\n",
              "      <td>9.02</td>\n",
              "      <td>13.635</td>\n",
              "      <td>80</td>\n",
              "      <td>0.0</td>\n",
              "      <td>5</td>\n",
              "      <td>27</td>\n",
              "      <td>32</td>\n",
              "    </tr>\n",
              "    <tr>\n",
              "      <td>3</td>\n",
              "      <td>2011-01-01 03:00:00</td>\n",
              "      <td>1</td>\n",
              "      <td>0</td>\n",
              "      <td>0</td>\n",
              "      <td>1</td>\n",
              "      <td>9.84</td>\n",
              "      <td>14.395</td>\n",
              "      <td>75</td>\n",
              "      <td>0.0</td>\n",
              "      <td>3</td>\n",
              "      <td>10</td>\n",
              "      <td>13</td>\n",
              "    </tr>\n",
              "    <tr>\n",
              "      <td>4</td>\n",
              "      <td>2011-01-01 04:00:00</td>\n",
              "      <td>1</td>\n",
              "      <td>0</td>\n",
              "      <td>0</td>\n",
              "      <td>1</td>\n",
              "      <td>9.84</td>\n",
              "      <td>14.395</td>\n",
              "      <td>75</td>\n",
              "      <td>0.0</td>\n",
              "      <td>0</td>\n",
              "      <td>1</td>\n",
              "      <td>1</td>\n",
              "    </tr>\n",
              "  </tbody>\n",
              "</table>\n",
              "</div>"
            ]
          },
          "metadata": {}
        }
      ],
      "execution_count": 74,
      "metadata": {
        "collapsed": true,
        "outputExpanded": false,
        "jupyter": {
          "source_hidden": false,
          "outputs_hidden": false
        },
        "nteract": {
          "transient": {
            "deleting": false
          }
        },
        "execution": {
          "iopub.status.busy": "2020-05-17T19:31:23.276Z",
          "iopub.execute_input": "2020-05-17T19:31:23.285Z",
          "iopub.status.idle": "2020-05-17T19:31:23.301Z",
          "shell.execute_reply": "2020-05-17T19:31:23.310Z"
        }
      }
    },
    {
      "cell_type": "code",
      "source": [
        "data.dtypes"
      ],
      "outputs": [
        {
          "output_type": "execute_result",
          "execution_count": 75,
          "data": {
            "text/plain": [
              "datetime       object\n",
              "season          int64\n",
              "holiday         int64\n",
              "workingday      int64\n",
              "weather         int64\n",
              "temp          float64\n",
              "atemp         float64\n",
              "humidity        int64\n",
              "windspeed     float64\n",
              "casual          int64\n",
              "registered      int64\n",
              "count           int64\n",
              "dtype: object"
            ]
          },
          "metadata": {}
        }
      ],
      "execution_count": 75,
      "metadata": {
        "collapsed": true,
        "outputExpanded": false,
        "jupyter": {
          "source_hidden": false,
          "outputs_hidden": false
        },
        "nteract": {
          "transient": {
            "deleting": false
          }
        },
        "execution": {
          "iopub.status.busy": "2020-05-17T19:31:25.948Z",
          "iopub.execute_input": "2020-05-17T19:31:25.955Z",
          "iopub.status.idle": "2020-05-17T19:31:25.973Z",
          "shell.execute_reply": "2020-05-17T19:31:25.979Z"
        }
      }
    },
    {
      "cell_type": "markdown",
      "source": [
        "## Feature Engineering\n",
        "Based on the data types, we will do the following:\n",
        "- Create new features from datetime: date, hour, dayofweek, month, and drop datetime.\n",
        "- Change season, holiday, workingday, and weather to categorical data type. "
      ],
      "metadata": {
        "nteract": {
          "transient": {
            "deleting": false
          }
        }
      }
    },
    {
      "cell_type": "code",
      "source": [
        "# Converting to datetime first.\n",
        "data.datetime = pd.to_datetime(data.datetime)\n",
        "data['year'] = data['datetime'].dt.year\n",
        "data['month'] = data['datetime'].dt.month\n",
        "data['day'] = data['datetime'].dt.day\n",
        "data['hour'] = data['datetime'].dt.hour\n",
        "data['dayofweek'] = data['datetime'].dt.week\n",
        "\n",
        "data['season'] = data.season.map({1: 'Spring', 2 : 'Summer', 3 : 'Fall', 4 :'Winter' })\n",
        "data['weather'] = data.weather.map({1: ' Clear + Few clouds + Partly cloudy + Partly cloudy', 2 : ' Mist + Cloudy, Mist + Broken clouds, Mist + Few clouds, Mist ', 3 : ' Light Snow, Light Rain + Thunderstorm + Scattered clouds, Light Rain + Scattered clouds', 4 :' Heavy Rain + Ice Pallets + Thunderstorm + Mist, Snow + Fog ' })\n",
        "\n",
        "# Changing type to categorical\n",
        "categorical_list = ['year', 'month', 'day', 'hour', 'dayofweek', 'season', 'weather', 'holiday', 'workingday'] \n",
        "\n",
        "for var in categorical_list :\n",
        "    data[var] = data[var].astype('category')\n",
        "    \n",
        "# Drop datetime\n",
        "data  = data.drop(['datetime'],axis=1)"
      ],
      "outputs": [],
      "execution_count": 76,
      "metadata": {
        "collapsed": true,
        "outputExpanded": false,
        "jupyter": {
          "source_hidden": false,
          "outputs_hidden": false
        },
        "nteract": {
          "transient": {
            "deleting": false
          }
        },
        "execution": {
          "iopub.status.busy": "2020-05-17T19:31:29.302Z",
          "iopub.execute_input": "2020-05-17T19:31:29.310Z",
          "iopub.status.idle": "2020-05-17T19:31:29.319Z",
          "shell.execute_reply": "2020-05-17T19:31:29.337Z"
        }
      }
    },
    {
      "cell_type": "markdown",
      "source": [
        "### Let's check for missing values\n",
        "No missing values in the data"
      ],
      "metadata": {
        "nteract": {
          "transient": {
            "deleting": false
          }
        }
      }
    },
    {
      "cell_type": "code",
      "source": [
        "msno.matrix(data,figsize=(12,5))"
      ],
      "outputs": [
        {
          "output_type": "execute_result",
          "execution_count": 77,
          "data": {
            "text/plain": [
              "<matplotlib.axes._subplots.AxesSubplot at 0x12f4e6490>"
            ]
          },
          "metadata": {}
        },
        {
          "output_type": "display_data",
          "data": {
            "text/plain": [
              "<Figure size 864x360 with 2 Axes>"
            ],
            "image/png": "[encoded data removed]"
          },
          "metadata": {
            "needs_background": "light"
          }
        }
      ],
      "execution_count": 77,
      "metadata": {
        "collapsed": true,
        "outputExpanded": false,
        "jupyter": {
          "source_hidden": false,
          "outputs_hidden": false
        },
        "nteract": {
          "transient": {
            "deleting": false
          }
        },
        "execution": {
          "iopub.status.busy": "2020-05-17T19:31:36.823Z",
          "iopub.execute_input": "2020-05-17T19:31:36.831Z",
          "iopub.status.idle": "2020-05-17T19:31:37.253Z",
          "shell.execute_reply": "2020-05-17T19:31:37.286Z"
        }
      }
    },
    {
      "cell_type": "markdown",
      "source": [
        "### Let's check for outliers\n",
        "- Count has a lot of outliers.\n",
        "- Spring has less counts.\n",
        "- Commuter times have higher median value (7 to 8 AM and 5 to 6 PM)\n",
        "- There are more outliers in working days"
      ],
      "metadata": {
        "nteract": {
          "transient": {
            "deleting": false
          }
        }
      }
    },
    {
      "cell_type": "code",
      "source": [
        "fig, axes = plt.subplots(nrows=2,ncols=2)\n",
        "fig.set_size_inches(12, 10)\n",
        "sn.boxplot(data=data, y='count', orient='v', ax=axes[0][0])\n",
        "sn.boxplot(data=data, y='count', x='season', orient='v', ax=axes[0][1])\n",
        "sn.boxplot(data=data, y='count', x='hour', orient='v', ax=axes[1][0])\n",
        "sn.boxplot(data=data, y='count', x='workingday', orient='v', ax=axes[1][1])\n",
        "\n",
        "axes[0][0].set(ylabel='Count',title='Box Plot On Count')\n",
        "axes[0][1].set(xlabel='Season', ylabel='Count',title='Box Plot on count Across season')\n",
        "axes[1][0].set(xlabel='Hour of The Day', ylabel='Count',title='Box Plot on count Across Hour of the Day')\n",
        "axes[1][1].set(xlabel='Working Day', ylabel='Count',title='Box Plot On Count Across Working Day')"
      ],
      "outputs": [
        {
          "output_type": "execute_result",
          "execution_count": 78,
          "data": {
            "text/plain": [
              "[Text(0, 0.5, 'Count'),\n",
              " Text(0.5, 0, 'Working Day'),\n",
              " Text(0.5, 1.0, 'Box Plot On Count Across Working Day')]"
            ]
          },
          "metadata": {}
        },
        {
          "output_type": "display_data",
          "data": {
            "text/plain": [
              "<Figure size 864x720 with 4 Axes>"
            ],
            "image/png": "[encoded data removed]"
          },
          "metadata": {
            "needs_background": "light"
          }
        }
      ],
      "execution_count": 78,
      "metadata": {
        "collapsed": true,
        "outputExpanded": false,
        "jupyter": {
          "source_hidden": false,
          "outputs_hidden": false
        },
        "nteract": {
          "transient": {
            "deleting": false
          }
        },
        "execution": {
          "iopub.status.busy": "2020-05-17T19:31:41.534Z",
          "iopub.execute_input": "2020-05-17T19:31:41.540Z",
          "iopub.status.idle": "2020-05-17T19:31:42.681Z",
          "shell.execute_reply": "2020-05-17T19:31:42.708Z"
        }
      }
    },
    {
      "cell_type": "markdown",
      "source": [
        "### Let's remove the outliers"
      ],
      "metadata": {
        "nteract": {
          "transient": {
            "deleting": false
          }
        }
      }
    },
    {
      "cell_type": "code",
      "source": [
        "data_cleaned = data[np.abs(data['count']-data['count'].mean())<=(3*data['count'].std())] \n",
        "print('Shape with Outliers: ', data.shape)\n",
        "print('Shape without Outliers: ', data_cleaned.shape)\n",
        "print('Outliers Removed: ', data.shape[0] - data_cleaned.shape[0])"
      ],
      "outputs": [
        {
          "output_type": "stream",
          "name": "stdout",
          "text": [
            "Shape with Outliers:  (10886, 16)\n",
            "Shape without Outliers:  (10739, 16)\n",
            "Outliers Removed:  147\n"
          ]
        }
      ],
      "execution_count": 79,
      "metadata": {
        "collapsed": true,
        "outputExpanded": false,
        "jupyter": {
          "source_hidden": false,
          "outputs_hidden": false
        },
        "nteract": {
          "transient": {
            "deleting": false
          }
        },
        "execution": {
          "iopub.status.busy": "2020-05-17T19:31:46.092Z",
          "iopub.execute_input": "2020-05-17T19:31:46.099Z",
          "iopub.status.idle": "2020-05-17T19:31:46.113Z",
          "shell.execute_reply": "2020-05-17T19:31:46.120Z"
        }
      }
    },
    {
      "cell_type": "markdown",
      "source": [
        "## Correlation Analysis\n",
        "- temp and atemp are strongly correlated and one of the will be dropped.\n",
        "- casual, registered, and windspeed may not be useful."
      ],
      "metadata": {
        "nteract": {
          "transient": {
            "deleting": false
          }
        }
      }
    },
    {
      "cell_type": "code",
      "source": [
        "plt.figure(figsize=(24,12))\n",
        "sns.heatmap(data_cleaned.corr(), annot=True)\n",
        "plt.show()"
      ],
      "outputs": [
        {
          "output_type": "display_data",
          "data": {
            "text/plain": [
              "<Figure size 1728x864 with 2 Axes>"
            ],
            "image/png": "[encoded data removed]"
          },
          "metadata": {
            "needs_background": "light"
          }
        }
      ],
      "execution_count": 80,
      "metadata": {
        "collapsed": true,
        "outputExpanded": false,
        "jupyter": {
          "source_hidden": false,
          "outputs_hidden": false
        },
        "nteract": {
          "transient": {
            "deleting": false
          }
        },
        "execution": {
          "iopub.status.busy": "2020-05-17T19:31:49.863Z",
          "iopub.execute_input": "2020-05-17T19:31:49.873Z",
          "iopub.status.idle": "2020-05-17T19:31:50.610Z",
          "shell.execute_reply": "2020-05-17T19:31:50.646Z"
        }
      }
    },
    {
      "cell_type": "code",
      "source": [
        "data_cleaned.corr()"
      ],
      "outputs": [
        {
          "output_type": "execute_result",
          "execution_count": 120,
          "data": {
            "text/plain": [
              "                temp     atemp  humidity  windspeed    casual  registered  \\\n",
              "temp        1.000000  0.985254 -0.056394  -0.019460  0.460774    0.304328   \n",
              "atemp       0.985254  1.000000 -0.035467  -0.059403  0.456319    0.301074   \n",
              "humidity   -0.056394 -0.035467  1.000000  -0.320158 -0.341204   -0.263525   \n",
              "windspeed  -0.019460 -0.059403 -0.320158   1.000000  0.092334    0.096104   \n",
              "casual      0.460774  0.456319 -0.341204   0.092334  1.000000    0.498085   \n",
              "registered  0.304328  0.301074 -0.263525   0.096104  0.498085    1.000000   \n",
              "count       0.385954  0.381967 -0.317028   0.106074  0.704764    0.966209   \n",
              "\n",
              "               count  \n",
              "temp        0.385954  \n",
              "atemp       0.381967  \n",
              "humidity   -0.317028  \n",
              "windspeed   0.106074  \n",
              "casual      0.704764  \n",
              "registered  0.966209  \n",
              "count       1.000000  "
            ],
            "text/html": [
              "<div>\n",
              "<style scoped>\n",
              "    .dataframe tbody tr th:only-of-type {\n",
              "        vertical-align: middle;\n",
              "    }\n",
              "\n",
              "    .dataframe tbody tr th {\n",
              "        vertical-align: top;\n",
              "    }\n",
              "\n",
              "    .dataframe thead th {\n",
              "        text-align: right;\n",
              "    }\n",
              "</style>\n",
              "<table border=\"1\" class=\"dataframe\">\n",
              "  <thead>\n",
              "    <tr style=\"text-align: right;\">\n",
              "      <th></th>\n",
              "      <th>temp</th>\n",
              "      <th>atemp</th>\n",
              "      <th>humidity</th>\n",
              "      <th>windspeed</th>\n",
              "      <th>casual</th>\n",
              "      <th>registered</th>\n",
              "      <th>count</th>\n",
              "    </tr>\n",
              "  </thead>\n",
              "  <tbody>\n",
              "    <tr>\n",
              "      <td>temp</td>\n",
              "      <td>1.000000</td>\n",
              "      <td>0.985254</td>\n",
              "      <td>-0.056394</td>\n",
              "      <td>-0.019460</td>\n",
              "      <td>0.460774</td>\n",
              "      <td>0.304328</td>\n",
              "      <td>0.385954</td>\n",
              "    </tr>\n",
              "    <tr>\n",
              "      <td>atemp</td>\n",
              "      <td>0.985254</td>\n",
              "      <td>1.000000</td>\n",
              "      <td>-0.035467</td>\n",
              "      <td>-0.059403</td>\n",
              "      <td>0.456319</td>\n",
              "      <td>0.301074</td>\n",
              "      <td>0.381967</td>\n",
              "    </tr>\n",
              "    <tr>\n",
              "      <td>humidity</td>\n",
              "      <td>-0.056394</td>\n",
              "      <td>-0.035467</td>\n",
              "      <td>1.000000</td>\n",
              "      <td>-0.320158</td>\n",
              "      <td>-0.341204</td>\n",
              "      <td>-0.263525</td>\n",
              "      <td>-0.317028</td>\n",
              "    </tr>\n",
              "    <tr>\n",
              "      <td>windspeed</td>\n",
              "      <td>-0.019460</td>\n",
              "      <td>-0.059403</td>\n",
              "      <td>-0.320158</td>\n",
              "      <td>1.000000</td>\n",
              "      <td>0.092334</td>\n",
              "      <td>0.096104</td>\n",
              "      <td>0.106074</td>\n",
              "    </tr>\n",
              "    <tr>\n",
              "      <td>casual</td>\n",
              "      <td>0.460774</td>\n",
              "      <td>0.456319</td>\n",
              "      <td>-0.341204</td>\n",
              "      <td>0.092334</td>\n",
              "      <td>1.000000</td>\n",
              "      <td>0.498085</td>\n",
              "      <td>0.704764</td>\n",
              "    </tr>\n",
              "    <tr>\n",
              "      <td>registered</td>\n",
              "      <td>0.304328</td>\n",
              "      <td>0.301074</td>\n",
              "      <td>-0.263525</td>\n",
              "      <td>0.096104</td>\n",
              "      <td>0.498085</td>\n",
              "      <td>1.000000</td>\n",
              "      <td>0.966209</td>\n",
              "    </tr>\n",
              "    <tr>\n",
              "      <td>count</td>\n",
              "      <td>0.385954</td>\n",
              "      <td>0.381967</td>\n",
              "      <td>-0.317028</td>\n",
              "      <td>0.106074</td>\n",
              "      <td>0.704764</td>\n",
              "      <td>0.966209</td>\n",
              "      <td>1.000000</td>\n",
              "    </tr>\n",
              "  </tbody>\n",
              "</table>\n",
              "</div>"
            ]
          },
          "metadata": {}
        }
      ],
      "execution_count": 120,
      "metadata": {
        "collapsed": true,
        "outputExpanded": false,
        "jupyter": {
          "source_hidden": false,
          "outputs_hidden": false
        },
        "nteract": {
          "transient": {
            "deleting": false
          }
        },
        "execution": {
          "iopub.status.busy": "2020-05-17T20:50:07.251Z",
          "iopub.execute_input": "2020-05-17T20:50:07.259Z",
          "iopub.status.idle": "2020-05-17T20:50:07.278Z",
          "shell.execute_reply": "2020-05-17T20:50:07.285Z"
        }
      }
    },
    {
      "cell_type": "markdown",
      "source": [
        "Let's have a closer look at the relationship between count vs. temp, humidity, and windspeed."
      ],
      "metadata": {
        "nteract": {
          "transient": {
            "deleting": false
          }
        }
      }
    },
    {
      "cell_type": "code",
      "source": [
        "fig,(ax1,ax2,ax3) = plt.subplots(ncols=3)\n",
        "fig.set_size_inches(12, 5)\n",
        "sn.regplot(x='temp', y='count', data=data_cleaned, ax=ax1)\n",
        "sn.regplot(x='windspeed', y='count', data=data_cleaned, ax=ax2)\n",
        "sn.regplot(x='humidity', y='count', data=data_cleaned, ax=ax3)"
      ],
      "outputs": [
        {
          "output_type": "execute_result",
          "execution_count": 81,
          "data": {
            "text/plain": [
              "<matplotlib.axes._subplots.AxesSubplot at 0x12f6a82d0>"
            ]
          },
          "metadata": {}
        },
        {
          "output_type": "display_data",
          "data": {
            "text/plain": [
              "<Figure size 864x360 with 3 Axes>"
            ],
            "image/png": "[encoded data removed]"
          },
          "metadata": {
            "needs_background": "light"
          }
        }
      ],
      "execution_count": 81,
      "metadata": {
        "collapsed": true,
        "outputExpanded": false,
        "jupyter": {
          "source_hidden": false,
          "outputs_hidden": false
        },
        "nteract": {
          "transient": {
            "deleting": false
          }
        },
        "execution": {
          "iopub.status.busy": "2020-05-17T19:31:53.382Z",
          "iopub.execute_input": "2020-05-17T19:31:53.390Z",
          "iopub.status.idle": "2020-05-17T19:31:56.201Z",
          "shell.execute_reply": "2020-05-17T19:31:56.229Z"
        }
      }
    },
    {
      "cell_type": "markdown",
      "source": [
        "### Data Distribution\n",
        "\n",
        "- It looks like the data is skewed to the right, which might effect some of the machine learning algorithms. \n",
        "- Data is transformed through log transformation. Although it is still not exaclty normally distributed, it looks much better than before."
      ],
      "metadata": {
        "nteract": {
          "transient": {
            "deleting": false
          }
        }
      }
    },
    {
      "cell_type": "code",
      "source": [
        "fig,axes = plt.subplots(ncols=2,nrows=2)\n",
        "fig.set_size_inches(12, 10)\n",
        "sn.distplot(data_cleaned['count'],ax=axes[0][0])\n",
        "stats.probplot(data_cleaned['count'], dist='norm', fit=True, plot=axes[0][1])\n",
        "sn.distplot(np.log(data_cleaned['count']),ax=axes[1][0])\n",
        "stats.probplot(np.log1p(data_cleaned['count']), dist='norm', fit=True, plot=axes[1][1])"
      ],
      "outputs": [
        {
          "output_type": "execute_result",
          "execution_count": 82,
          "data": {
            "text/plain": [
              "((array([-3.82819677, -3.60401975, -3.48099008, ...,  3.48099008,\n",
              "          3.60401975,  3.82819677]),\n",
              "  array([0.69314718, 0.69314718, 0.69314718, ..., 6.5971457 , 6.59850903,\n",
              "         6.5998705 ])),\n",
              " (1.3486990121229776, 4.562423868087808, 0.9581176780909617))"
            ]
          },
          "metadata": {}
        },
        {
          "output_type": "display_data",
          "data": {
            "text/plain": [
              "<Figure size 864x720 with 4 Axes>"
            ],
            "image/png": "[encoded data removed]"
          },
          "metadata": {
            "needs_background": "light"
          }
        }
      ],
      "execution_count": 82,
      "metadata": {
        "collapsed": true,
        "outputExpanded": false,
        "jupyter": {
          "source_hidden": false,
          "outputs_hidden": false
        },
        "nteract": {
          "transient": {
            "deleting": false
          }
        },
        "execution": {
          "iopub.status.busy": "2020-05-17T19:32:00.350Z",
          "iopub.execute_input": "2020-05-17T19:32:00.358Z",
          "iopub.status.idle": "2020-05-17T19:32:01.444Z",
          "shell.execute_reply": "2020-05-17T19:32:01.481Z"
        }
      }
    },
    {
      "cell_type": "code",
      "source": [
        "final_df=data_cleaned.drop(['temp','windspeed','casual','registered'], axis=1)\n",
        "final_df.head()"
      ],
      "outputs": [
        {
          "output_type": "execute_result",
          "execution_count": 106,
          "data": {
            "text/plain": [
              "   season holiday workingday  \\\n",
              "0  Spring       0          0   \n",
              "1  Spring       0          0   \n",
              "2  Spring       0          0   \n",
              "3  Spring       0          0   \n",
              "4  Spring       0          0   \n",
              "\n",
              "                                             weather   atemp  humidity  count  \\\n",
              "0   Clear + Few clouds + Partly cloudy + Partly c...  14.395        81     16   \n",
              "1   Clear + Few clouds + Partly cloudy + Partly c...  13.635        80     40   \n",
              "2   Clear + Few clouds + Partly cloudy + Partly c...  13.635        80     32   \n",
              "3   Clear + Few clouds + Partly cloudy + Partly c...  14.395        75     13   \n",
              "4   Clear + Few clouds + Partly cloudy + Partly c...  14.395        75      1   \n",
              "\n",
              "   year month day hour dayofweek  \n",
              "0  2011     1   1    0        52  \n",
              "1  2011     1   1    1        52  \n",
              "2  2011     1   1    2        52  \n",
              "3  2011     1   1    3        52  \n",
              "4  2011     1   1    4        52  "
            ],
            "text/html": [
              "<div>\n",
              "<style scoped>\n",
              "    .dataframe tbody tr th:only-of-type {\n",
              "        vertical-align: middle;\n",
              "    }\n",
              "\n",
              "    .dataframe tbody tr th {\n",
              "        vertical-align: top;\n",
              "    }\n",
              "\n",
              "    .dataframe thead th {\n",
              "        text-align: right;\n",
              "    }\n",
              "</style>\n",
              "<table border=\"1\" class=\"dataframe\">\n",
              "  <thead>\n",
              "    <tr style=\"text-align: right;\">\n",
              "      <th></th>\n",
              "      <th>season</th>\n",
              "      <th>holiday</th>\n",
              "      <th>workingday</th>\n",
              "      <th>weather</th>\n",
              "      <th>atemp</th>\n",
              "      <th>humidity</th>\n",
              "      <th>count</th>\n",
              "      <th>year</th>\n",
              "      <th>month</th>\n",
              "      <th>day</th>\n",
              "      <th>hour</th>\n",
              "      <th>dayofweek</th>\n",
              "    </tr>\n",
              "  </thead>\n",
              "  <tbody>\n",
              "    <tr>\n",
              "      <td>0</td>\n",
              "      <td>Spring</td>\n",
              "      <td>0</td>\n",
              "      <td>0</td>\n",
              "      <td>Clear + Few clouds + Partly cloudy + Partly c...</td>\n",
              "      <td>14.395</td>\n",
              "      <td>81</td>\n",
              "      <td>16</td>\n",
              "      <td>2011</td>\n",
              "      <td>1</td>\n",
              "      <td>1</td>\n",
              "      <td>0</td>\n",
              "      <td>52</td>\n",
              "    </tr>\n",
              "    <tr>\n",
              "      <td>1</td>\n",
              "      <td>Spring</td>\n",
              "      <td>0</td>\n",
              "      <td>0</td>\n",
              "      <td>Clear + Few clouds + Partly cloudy + Partly c...</td>\n",
              "      <td>13.635</td>\n",
              "      <td>80</td>\n",
              "      <td>40</td>\n",
              "      <td>2011</td>\n",
              "      <td>1</td>\n",
              "      <td>1</td>\n",
              "      <td>1</td>\n",
              "      <td>52</td>\n",
              "    </tr>\n",
              "    <tr>\n",
              "      <td>2</td>\n",
              "      <td>Spring</td>\n",
              "      <td>0</td>\n",
              "      <td>0</td>\n",
              "      <td>Clear + Few clouds + Partly cloudy + Partly c...</td>\n",
              "      <td>13.635</td>\n",
              "      <td>80</td>\n",
              "      <td>32</td>\n",
              "      <td>2011</td>\n",
              "      <td>1</td>\n",
              "      <td>1</td>\n",
              "      <td>2</td>\n",
              "      <td>52</td>\n",
              "    </tr>\n",
              "    <tr>\n",
              "      <td>3</td>\n",
              "      <td>Spring</td>\n",
              "      <td>0</td>\n",
              "      <td>0</td>\n",
              "      <td>Clear + Few clouds + Partly cloudy + Partly c...</td>\n",
              "      <td>14.395</td>\n",
              "      <td>75</td>\n",
              "      <td>13</td>\n",
              "      <td>2011</td>\n",
              "      <td>1</td>\n",
              "      <td>1</td>\n",
              "      <td>3</td>\n",
              "      <td>52</td>\n",
              "    </tr>\n",
              "    <tr>\n",
              "      <td>4</td>\n",
              "      <td>Spring</td>\n",
              "      <td>0</td>\n",
              "      <td>0</td>\n",
              "      <td>Clear + Few clouds + Partly cloudy + Partly c...</td>\n",
              "      <td>14.395</td>\n",
              "      <td>75</td>\n",
              "      <td>1</td>\n",
              "      <td>2011</td>\n",
              "      <td>1</td>\n",
              "      <td>1</td>\n",
              "      <td>4</td>\n",
              "      <td>52</td>\n",
              "    </tr>\n",
              "  </tbody>\n",
              "</table>\n",
              "</div>"
            ]
          },
          "metadata": {}
        }
      ],
      "execution_count": 106,
      "metadata": {
        "collapsed": true,
        "outputExpanded": false,
        "jupyter": {
          "source_hidden": false,
          "outputs_hidden": false
        },
        "nteract": {
          "transient": {
            "deleting": false
          }
        },
        "execution": {
          "iopub.status.busy": "2020-05-17T20:38:56.520Z",
          "iopub.execute_input": "2020-05-17T20:38:56.529Z",
          "iopub.status.idle": "2020-05-17T20:38:56.546Z",
          "shell.execute_reply": "2020-05-17T20:38:56.554Z"
        }
      }
    },
    {
      "cell_type": "markdown",
      "source": [
        "### Adding dummy varibles to categorical data"
      ],
      "metadata": {
        "nteract": {
          "transient": {
            "deleting": false
          }
        }
      }
    },
    {
      "cell_type": "code",
      "source": [
        "weather_df = pd.get_dummies(data_cleaned['weather'],prefix='w',drop_first=True)\n",
        "year_df=pd.get_dummies(data_cleaned['year'],prefix='y',drop_first=True)\n",
        "month_df = pd.get_dummies(data_cleaned['month'],prefix='m',drop_first=True)\n",
        "hour_df = pd.get_dummies(data_cleaned['hour'],prefix='h',drop_first=True)\n",
        "season_df = pd.get_dummies(data_cleaned['season'],prefix='s',drop_first=True)\n",
        "                     \n",
        "final_df=final_df.join(weather_df)\n",
        "final_df=final_df.join(year_df)\n",
        "final_df=final_df.join(month_df)                     \n",
        "final_df=final_df.join(hour_df)\n",
        "final_df=final_df.join(season_df)\n",
        "\n",
        "final_df = final_df.drop(['season','weather','year','month', 'hour'], axis=1)\n",
        "final_df.head()"
      ],
      "outputs": [
        {
          "output_type": "execute_result",
          "execution_count": 107,
          "data": {
            "text/plain": [
              "  holiday workingday   atemp  humidity  count day dayofweek  \\\n",
              "0       0          0  14.395        81     16   1        52   \n",
              "1       0          0  13.635        80     40   1        52   \n",
              "2       0          0  13.635        80     32   1        52   \n",
              "3       0          0  14.395        75     13   1        52   \n",
              "4       0          0  14.395        75      1   1        52   \n",
              "\n",
              "   w_ Heavy Rain + Ice Pallets + Thunderstorm + Mist, Snow + Fog   \\\n",
              "0                                                  0                \n",
              "1                                                  0                \n",
              "2                                                  0                \n",
              "3                                                  0                \n",
              "4                                                  0                \n",
              "\n",
              "   w_ Light Snow, Light Rain + Thunderstorm + Scattered clouds, Light Rain + Scattered clouds  \\\n",
              "0                                                  0                                            \n",
              "1                                                  0                                            \n",
              "2                                                  0                                            \n",
              "3                                                  0                                            \n",
              "4                                                  0                                            \n",
              "\n",
              "   w_ Mist + Cloudy, Mist + Broken clouds, Mist + Few clouds, Mist   ...  \\\n",
              "0                                                  0                 ...   \n",
              "1                                                  0                 ...   \n",
              "2                                                  0                 ...   \n",
              "3                                                  0                 ...   \n",
              "4                                                  0                 ...   \n",
              "\n",
              "   h_17  h_18  h_19  h_20  h_21  h_22  h_23  s_Spring  s_Summer  s_Winter  \n",
              "0     0     0     0     0     0     0     0         1         0         0  \n",
              "1     0     0     0     0     0     0     0         1         0         0  \n",
              "2     0     0     0     0     0     0     0         1         0         0  \n",
              "3     0     0     0     0     0     0     0         1         0         0  \n",
              "4     0     0     0     0     0     0     0         1         0         0  \n",
              "\n",
              "[5 rows x 48 columns]"
            ],
            "text/html": [
              "<div>\n",
              "<style scoped>\n",
              "    .dataframe tbody tr th:only-of-type {\n",
              "        vertical-align: middle;\n",
              "    }\n",
              "\n",
              "    .dataframe tbody tr th {\n",
              "        vertical-align: top;\n",
              "    }\n",
              "\n",
              "    .dataframe thead th {\n",
              "        text-align: right;\n",
              "    }\n",
              "</style>\n",
              "<table border=\"1\" class=\"dataframe\">\n",
              "  <thead>\n",
              "    <tr style=\"text-align: right;\">\n",
              "      <th></th>\n",
              "      <th>holiday</th>\n",
              "      <th>workingday</th>\n",
              "      <th>atemp</th>\n",
              "      <th>humidity</th>\n",
              "      <th>count</th>\n",
              "      <th>day</th>\n",
              "      <th>dayofweek</th>\n",
              "      <th>w_ Heavy Rain + Ice Pallets + Thunderstorm + Mist, Snow + Fog</th>\n",
              "      <th>w_ Light Snow, Light Rain + Thunderstorm + Scattered clouds, Light Rain + Scattered clouds</th>\n",
              "      <th>w_ Mist + Cloudy, Mist + Broken clouds, Mist + Few clouds, Mist</th>\n",
              "      <th>...</th>\n",
              "      <th>h_17</th>\n",
              "      <th>h_18</th>\n",
              "      <th>h_19</th>\n",
              "      <th>h_20</th>\n",
              "      <th>h_21</th>\n",
              "      <th>h_22</th>\n",
              "      <th>h_23</th>\n",
              "      <th>s_Spring</th>\n",
              "      <th>s_Summer</th>\n",
              "      <th>s_Winter</th>\n",
              "    </tr>\n",
              "  </thead>\n",
              "  <tbody>\n",
              "    <tr>\n",
              "      <td>0</td>\n",
              "      <td>0</td>\n",
              "      <td>0</td>\n",
              "      <td>14.395</td>\n",
              "      <td>81</td>\n",
              "      <td>16</td>\n",
              "      <td>1</td>\n",
              "      <td>52</td>\n",
              "      <td>0</td>\n",
              "      <td>0</td>\n",
              "      <td>0</td>\n",
              "      <td>...</td>\n",
              "      <td>0</td>\n",
              "      <td>0</td>\n",
              "      <td>0</td>\n",
              "      <td>0</td>\n",
              "      <td>0</td>\n",
              "      <td>0</td>\n",
              "      <td>0</td>\n",
              "      <td>1</td>\n",
              "      <td>0</td>\n",
              "      <td>0</td>\n",
              "    </tr>\n",
              "    <tr>\n",
              "      <td>1</td>\n",
              "      <td>0</td>\n",
              "      <td>0</td>\n",
              "      <td>13.635</td>\n",
              "      <td>80</td>\n",
              "      <td>40</td>\n",
              "      <td>1</td>\n",
              "      <td>52</td>\n",
              "      <td>0</td>\n",
              "      <td>0</td>\n",
              "      <td>0</td>\n",
              "      <td>...</td>\n",
              "      <td>0</td>\n",
              "      <td>0</td>\n",
              "      <td>0</td>\n",
              "      <td>0</td>\n",
              "      <td>0</td>\n",
              "      <td>0</td>\n",
              "      <td>0</td>\n",
              "      <td>1</td>\n",
              "      <td>0</td>\n",
              "      <td>0</td>\n",
              "    </tr>\n",
              "    <tr>\n",
              "      <td>2</td>\n",
              "      <td>0</td>\n",
              "      <td>0</td>\n",
              "      <td>13.635</td>\n",
              "      <td>80</td>\n",
              "      <td>32</td>\n",
              "      <td>1</td>\n",
              "      <td>52</td>\n",
              "      <td>0</td>\n",
              "      <td>0</td>\n",
              "      <td>0</td>\n",
              "      <td>...</td>\n",
              "      <td>0</td>\n",
              "      <td>0</td>\n",
              "      <td>0</td>\n",
              "      <td>0</td>\n",
              "      <td>0</td>\n",
              "      <td>0</td>\n",
              "      <td>0</td>\n",
              "      <td>1</td>\n",
              "      <td>0</td>\n",
              "      <td>0</td>\n",
              "    </tr>\n",
              "    <tr>\n",
              "      <td>3</td>\n",
              "      <td>0</td>\n",
              "      <td>0</td>\n",
              "      <td>14.395</td>\n",
              "      <td>75</td>\n",
              "      <td>13</td>\n",
              "      <td>1</td>\n",
              "      <td>52</td>\n",
              "      <td>0</td>\n",
              "      <td>0</td>\n",
              "      <td>0</td>\n",
              "      <td>...</td>\n",
              "      <td>0</td>\n",
              "      <td>0</td>\n",
              "      <td>0</td>\n",
              "      <td>0</td>\n",
              "      <td>0</td>\n",
              "      <td>0</td>\n",
              "      <td>0</td>\n",
              "      <td>1</td>\n",
              "      <td>0</td>\n",
              "      <td>0</td>\n",
              "    </tr>\n",
              "    <tr>\n",
              "      <td>4</td>\n",
              "      <td>0</td>\n",
              "      <td>0</td>\n",
              "      <td>14.395</td>\n",
              "      <td>75</td>\n",
              "      <td>1</td>\n",
              "      <td>1</td>\n",
              "      <td>52</td>\n",
              "      <td>0</td>\n",
              "      <td>0</td>\n",
              "      <td>0</td>\n",
              "      <td>...</td>\n",
              "      <td>0</td>\n",
              "      <td>0</td>\n",
              "      <td>0</td>\n",
              "      <td>0</td>\n",
              "      <td>0</td>\n",
              "      <td>0</td>\n",
              "      <td>0</td>\n",
              "      <td>1</td>\n",
              "      <td>0</td>\n",
              "      <td>0</td>\n",
              "    </tr>\n",
              "  </tbody>\n",
              "</table>\n",
              "<p>5 rows × 48 columns</p>\n",
              "</div>"
            ]
          },
          "metadata": {}
        }
      ],
      "execution_count": 107,
      "metadata": {
        "collapsed": true,
        "outputExpanded": false,
        "jupyter": {
          "source_hidden": false,
          "outputs_hidden": false
        },
        "nteract": {
          "transient": {
            "deleting": false
          }
        },
        "execution": {
          "iopub.status.busy": "2020-05-17T20:39:00.334Z",
          "iopub.execute_input": "2020-05-17T20:39:00.343Z",
          "iopub.status.idle": "2020-05-17T20:39:00.360Z",
          "shell.execute_reply": "2020-05-17T20:39:00.391Z"
        }
      }
    },
    {
      "cell_type": "markdown",
      "source": [
        "# Modeling Development\n",
        "Now that our features are finalized we can move to modeling. First, we will split the data and then we use several algorithms to predict based on the test data. Then, we tune a bit to try to get better result."
      ],
      "metadata": {
        "nteract": {
          "transient": {
            "deleting": false
          }
        }
      }
    },
    {
      "cell_type": "code",
      "source": [
        "from sklearn.model_selection import train_test_split,cross_validate\n",
        "\n",
        "x_train,x_test,y_train,y_test=train_test_split(final_df.drop('count',axis=1),final_df['count'],test_size=0.25,random_state=42)"
      ],
      "outputs": [],
      "execution_count": 109,
      "metadata": {
        "collapsed": true,
        "outputExpanded": false,
        "jupyter": {
          "source_hidden": false,
          "outputs_hidden": false
        },
        "nteract": {
          "transient": {
            "deleting": false
          }
        },
        "execution": {
          "iopub.status.busy": "2020-05-17T20:39:17.362Z",
          "iopub.execute_input": "2020-05-17T20:39:17.369Z",
          "iopub.status.idle": "2020-05-17T20:39:17.381Z",
          "shell.execute_reply": "2020-05-17T20:39:17.388Z"
        }
      }
    },
    {
      "cell_type": "code",
      "source": [
        "models=[RandomForestRegressor(),AdaBoostRegressor(),BaggingRegressor(),SVR(),KNeighborsRegressor()]\n",
        "model_names=['RandomForestRegressor','AdaBoostRegressor','BaggingRegressor','SVR','KNeighborsRegressor']\n",
        "rmsle=[]\n",
        "d={}\n",
        "for model in range (len(models)):\n",
        "    clf=models[model]\n",
        "    clf.fit(x_train,y_train)\n",
        "    test_pred=clf.predict(x_test)\n",
        "    rmsle.append(np.sqrt(mean_squared_log_error(test_pred,y_test)))\n",
        "d={'Modelling Algo':model_names,'RMSLE':rmsle}   \n",
        "d"
      ],
      "outputs": [
        {
          "output_type": "execute_result",
          "execution_count": 111,
          "data": {
            "text/plain": [
              "{'Modelling Algo': ['RandomForestRegressor',\n",
              "  'AdaBoostRegressor',\n",
              "  'BaggingRegressor',\n",
              "  'SVR',\n",
              "  'KNeighborsRegressor'],\n",
              " 'RMSLE': [0.5137008954009522,\n",
              "  1.4609233959312813,\n",
              "  0.5241071485903028,\n",
              "  1.2732518642391515,\n",
              "  1.2236072916356135]}"
            ]
          },
          "metadata": {}
        }
      ],
      "execution_count": 111,
      "metadata": {
        "collapsed": true,
        "outputExpanded": false,
        "jupyter": {
          "source_hidden": false,
          "outputs_hidden": false
        },
        "nteract": {
          "transient": {
            "deleting": false
          }
        },
        "execution": {
          "iopub.status.busy": "2020-05-17T20:42:12.388Z",
          "iopub.execute_input": "2020-05-17T20:42:12.399Z",
          "iopub.status.idle": "2020-05-17T20:42:23.463Z",
          "shell.execute_reply": "2020-05-17T20:42:23.489Z"
        }
      }
    },
    {
      "cell_type": "code",
      "source": [
        "rmsle_frame=pd.DataFrame(d)\n",
        "rmsle_frame"
      ],
      "outputs": [
        {
          "output_type": "execute_result",
          "execution_count": 112,
          "data": {
            "text/plain": [
              "          Modelling Algo     RMSLE\n",
              "0  RandomForestRegressor  0.513701\n",
              "1      AdaBoostRegressor  1.460923\n",
              "2       BaggingRegressor  0.524107\n",
              "3                    SVR  1.273252\n",
              "4    KNeighborsRegressor  1.223607"
            ],
            "text/html": [
              "<div>\n",
              "<style scoped>\n",
              "    .dataframe tbody tr th:only-of-type {\n",
              "        vertical-align: middle;\n",
              "    }\n",
              "\n",
              "    .dataframe tbody tr th {\n",
              "        vertical-align: top;\n",
              "    }\n",
              "\n",
              "    .dataframe thead th {\n",
              "        text-align: right;\n",
              "    }\n",
              "</style>\n",
              "<table border=\"1\" class=\"dataframe\">\n",
              "  <thead>\n",
              "    <tr style=\"text-align: right;\">\n",
              "      <th></th>\n",
              "      <th>Modelling Algo</th>\n",
              "      <th>RMSLE</th>\n",
              "    </tr>\n",
              "  </thead>\n",
              "  <tbody>\n",
              "    <tr>\n",
              "      <td>0</td>\n",
              "      <td>RandomForestRegressor</td>\n",
              "      <td>0.513701</td>\n",
              "    </tr>\n",
              "    <tr>\n",
              "      <td>1</td>\n",
              "      <td>AdaBoostRegressor</td>\n",
              "      <td>1.460923</td>\n",
              "    </tr>\n",
              "    <tr>\n",
              "      <td>2</td>\n",
              "      <td>BaggingRegressor</td>\n",
              "      <td>0.524107</td>\n",
              "    </tr>\n",
              "    <tr>\n",
              "      <td>3</td>\n",
              "      <td>SVR</td>\n",
              "      <td>1.273252</td>\n",
              "    </tr>\n",
              "    <tr>\n",
              "      <td>4</td>\n",
              "      <td>KNeighborsRegressor</td>\n",
              "      <td>1.223607</td>\n",
              "    </tr>\n",
              "  </tbody>\n",
              "</table>\n",
              "</div>"
            ]
          },
          "metadata": {}
        }
      ],
      "execution_count": 112,
      "metadata": {
        "collapsed": true,
        "outputExpanded": false,
        "jupyter": {
          "source_hidden": false,
          "outputs_hidden": false
        },
        "nteract": {
          "transient": {
            "deleting": false
          }
        },
        "execution": {
          "iopub.status.busy": "2020-05-17T20:42:34.766Z",
          "iopub.execute_input": "2020-05-17T20:42:34.775Z",
          "iopub.status.idle": "2020-05-17T20:42:34.794Z",
          "shell.execute_reply": "2020-05-17T20:42:34.804Z"
        }
      }
    },
    {
      "cell_type": "code",
      "source": [
        "sns.factorplot(y='Modelling Algo',x='RMSLE',data=rmsle_frame,kind='bar',size=5,aspect=2)"
      ],
      "outputs": [
        {
          "output_type": "execute_result",
          "execution_count": 114,
          "data": {
            "text/plain": [
              "<seaborn.axisgrid.FacetGrid at 0x12e662d90>"
            ]
          },
          "metadata": {}
        },
        {
          "output_type": "display_data",
          "data": {
            "text/plain": [
              "<Figure size 720x360 with 1 Axes>"
            ],
            "image/png": "[encoded data removed]"
          },
          "metadata": {
            "needs_background": "light"
          }
        }
      ],
      "execution_count": 114,
      "metadata": {
        "collapsed": true,
        "outputExpanded": false,
        "jupyter": {
          "source_hidden": false,
          "outputs_hidden": false
        },
        "nteract": {
          "transient": {
            "deleting": false
          }
        },
        "execution": {
          "iopub.status.busy": "2020-05-17T20:42:51.699Z",
          "iopub.execute_input": "2020-05-17T20:42:51.708Z",
          "iopub.status.idle": "2020-05-17T20:42:52.001Z",
          "shell.execute_reply": "2020-05-17T20:42:52.025Z"
        }
      }
    },
    {
      "cell_type": "code",
      "source": [
        "#for random forest regresion.\n",
        "no_of_test=[500]\n",
        "params_dict={'n_estimators':no_of_test,'n_jobs':[-1],'max_features':[\"auto\",'sqrt','log2']}\n",
        "clf_rf=GridSearchCV(estimator=RandomForestRegressor(),param_grid=params_dict,scoring='neg_mean_squared_log_error')\n",
        "clf_rf.fit(x_train,y_train)\n",
        "pred=clf_rf.predict(x_test)\n",
        "print((np.sqrt(mean_squared_log_error(pred,y_test))))"
      ],
      "outputs": [
        {
          "output_type": "stream",
          "name": "stdout",
          "text": [
            "0.5071140366800297\n"
          ]
        }
      ],
      "execution_count": 115,
      "metadata": {
        "collapsed": true,
        "outputExpanded": false,
        "jupyter": {
          "source_hidden": false,
          "outputs_hidden": false
        },
        "nteract": {
          "transient": {
            "deleting": false
          }
        },
        "execution": {
          "iopub.status.busy": "2020-05-17T20:43:08.698Z",
          "iopub.execute_input": "2020-05-17T20:43:08.708Z",
          "iopub.status.idle": "2020-05-17T20:44:01.858Z",
          "shell.execute_reply": "2020-05-17T20:44:01.885Z"
        }
      }
    },
    {
      "cell_type": "code",
      "source": [
        "clf_rf.best_params_"
      ],
      "outputs": [
        {
          "output_type": "execute_result",
          "execution_count": 117,
          "data": {
            "text/plain": [
              "{'max_features': 'auto', 'n_estimators': 500, 'n_jobs': -1}"
            ]
          },
          "metadata": {}
        }
      ],
      "execution_count": 117,
      "metadata": {
        "collapsed": true,
        "outputExpanded": false,
        "jupyter": {
          "source_hidden": false,
          "outputs_hidden": false
        },
        "nteract": {
          "transient": {
            "deleting": false
          }
        },
        "execution": {
          "iopub.status.busy": "2020-05-17T20:44:31.215Z",
          "iopub.execute_input": "2020-05-17T20:44:31.226Z",
          "iopub.status.idle": "2020-05-17T20:44:31.251Z",
          "shell.execute_reply": "2020-05-17T20:44:31.262Z"
        }
      }
    },
    {
      "cell_type": "code",
      "source": [
        "# for KNN\n",
        "n_neighbors=[]\n",
        "for i in range (0,50,5):\n",
        "    if(i!=0):\n",
        "        n_neighbors.append(i)\n",
        "params_dict={'n_neighbors':n_neighbors,'n_jobs':[-1]}\n",
        "clf_knn=GridSearchCV(estimator=KNeighborsRegressor(),param_grid=params_dict,scoring='neg_mean_squared_log_error')\n",
        "clf_knn.fit(x_train,y_train)\n",
        "pred=clf_knn.predict(x_test)\n",
        "print((np.sqrt(mean_squared_log_error(pred,y_test))))"
      ],
      "outputs": [
        {
          "output_type": "stream",
          "name": "stdout",
          "text": [
            "1.2236072916356135\n"
          ]
        }
      ],
      "execution_count": 118,
      "metadata": {
        "collapsed": true,
        "outputExpanded": false,
        "jupyter": {
          "source_hidden": false,
          "outputs_hidden": false
        },
        "nteract": {
          "transient": {
            "deleting": false
          }
        },
        "execution": {
          "iopub.status.busy": "2020-05-17T20:44:37.492Z",
          "iopub.execute_input": "2020-05-17T20:44:37.503Z",
          "iopub.status.idle": "2020-05-17T20:44:41.230Z",
          "shell.execute_reply": "2020-05-17T20:44:41.256Z"
        }
      }
    },
    {
      "cell_type": "code",
      "source": [
        "clf_knn.best_params_"
      ],
      "outputs": [
        {
          "output_type": "execute_result",
          "execution_count": 119,
          "data": {
            "text/plain": [
              "{'n_jobs': -1, 'n_neighbors': 5}"
            ]
          },
          "metadata": {}
        }
      ],
      "execution_count": 119,
      "metadata": {
        "collapsed": true,
        "outputExpanded": false,
        "jupyter": {
          "source_hidden": false,
          "outputs_hidden": false
        },
        "nteract": {
          "transient": {
            "deleting": false
          }
        },
        "execution": {
          "iopub.status.busy": "2020-05-17T20:44:47.870Z",
          "iopub.execute_input": "2020-05-17T20:44:47.880Z",
          "iopub.status.idle": "2020-05-17T20:44:47.901Z",
          "shell.execute_reply": "2020-05-17T20:44:47.910Z"
        }
      }
    }
  ],
  "metadata": {
    "kernel_info": {
      "name": "python3"
    },
    "language_info": {
      "name": "python",
      "version": "3.7.4",
      "mimetype": "text/x-python",
      "codemirror_mode": {
        "name": "ipython",
        "version": 3
      },
      "pygments_lexer": "ipython3",
      "nbconvert_exporter": "python",
      "file_extension": ".py"
    },
    "kernelspec": {
      "argv": [
        "/Users/OTatari/anaconda3/bin/python",
        "-m",
        "ipykernel_launcher",
        "-f",
        "{connection_file}"
      ],
      "display_name": "Python 3",
      "language": "python",
      "name": "python3"
    },
    "nteract": {
      "version": "0.23.1"
    }
  },
  "nbformat": 4,
  "nbformat_minor": 0
}